{
 "cells": [
  {
   "cell_type": "code",
   "execution_count": 1,
   "metadata": {},
   "outputs": [],
   "source": [
    "import tensorflow as tf\n",
    "import pandas as pd"
   ]
  },
  {
   "cell_type": "code",
   "execution_count": 2,
   "metadata": {
    "pycharm": {
     "name": "#%%\n"
    }
   },
   "outputs": [],
   "source": [
    "CSV_COLUMN_NAMES = ['SepalLength', 'SepalWidth', 'PetalLength', 'PetalWidth', 'Species']\n",
    "SPECIES = ['Setosa', 'Versicolor', 'Virginica']"
   ]
  },
  {
   "cell_type": "code",
   "execution_count": 3,
   "metadata": {
    "pycharm": {
     "name": "#%%\n"
    }
   },
   "outputs": [],
   "source": [
    "train_path = tf.keras.utils.get_file(\n",
    "    \"iris_training.csv\", \"https://storage.googleapis.com/download.tensorflow.org/data/iris_training.csv\")\n",
    "test_path = tf.keras.utils.get_file(\n",
    "    \"iris_test.csv\", \"https://storage.googleapis.com/download.tensorflow.org/data/iris_test.csv\")\n",
    "\n",
    "train = pd.read_csv(train_path, names=CSV_COLUMN_NAMES, header=0)\n",
    "test = pd.read_csv(test_path, names=CSV_COLUMN_NAMES, header=0)"
   ]
  },
  {
   "cell_type": "code",
   "execution_count": 4,
   "metadata": {
    "pycharm": {
     "name": "#%%\n"
    }
   },
   "outputs": [],
   "source": [
    "#split out the labels\n",
    "train_y = train.pop('Species')\n",
    "test_y = test.pop('Species')"
   ]
  },
  {
   "cell_type": "code",
   "execution_count": 5,
   "metadata": {
    "pycharm": {
     "name": "#%%\n"
    }
   },
   "outputs": [],
   "source": [
    "#create input function\n",
    "# return a tf.data.Dataset two elements:features, label\n",
    "def input_fn(features, labels, training=True, batch_size=256):\n",
    "    #convert the inputs to a Dataset\n",
    "    dataset = tf.data.Dataset.from_tensor_slices((dict(features), labels))\n",
    "    \n",
    "    #Shuffle and repeat if you are in training mode\n",
    "    if training:\n",
    "        dataset = dataset.shuffle(1000).repeat()\n",
    "    return dataset.batch(batch_size)"
   ]
  },
  {
   "cell_type": "code",
   "execution_count": 6,
   "metadata": {},
   "outputs": [
    {
     "data": {
      "text/plain": [
       "[NumericColumn(key='SepalLength', shape=(1,), default_value=None, dtype=tf.float32, normalizer_fn=None),\n",
       " NumericColumn(key='SepalWidth', shape=(1,), default_value=None, dtype=tf.float32, normalizer_fn=None),\n",
       " NumericColumn(key='PetalLength', shape=(1,), default_value=None, dtype=tf.float32, normalizer_fn=None),\n",
       " NumericColumn(key='PetalWidth', shape=(1,), default_value=None, dtype=tf.float32, normalizer_fn=None)]"
      ]
     },
     "execution_count": 6,
     "metadata": {},
     "output_type": "execute_result"
    }
   ],
   "source": [
    "# define the feature columns\n",
    "my_feature_columns = []\n",
    "for key in train.keys():\n",
    "    my_feature_columns.append(tf.feature_column.numeric_column(key=key))\n",
    "my_feature_columns"
   ]
  },
  {
   "cell_type": "code",
   "execution_count": 7,
   "metadata": {},
   "outputs": [
    {
     "name": "stdout",
     "output_type": "stream",
     "text": [
      "INFO:tensorflow:Using default config.\n",
      "WARNING:tensorflow:Using temporary folder as model directory: /var/folders/np/jy3lt_3d5r9cn16svmf_bqz40000gp/T/tmpy3raov40\n",
      "INFO:tensorflow:Using config: {'_model_dir': '/var/folders/np/jy3lt_3d5r9cn16svmf_bqz40000gp/T/tmpy3raov40', '_tf_random_seed': None, '_save_summary_steps': 100, '_save_checkpoints_steps': None, '_save_checkpoints_secs': 600, '_session_config': allow_soft_placement: true\n",
      "graph_options {\n",
      "  rewrite_options {\n",
      "    meta_optimizer_iterations: ONE\n",
      "  }\n",
      "}\n",
      ", '_keep_checkpoint_max': 5, '_keep_checkpoint_every_n_hours': 10000, '_log_step_count_steps': 100, '_train_distribute': None, '_device_fn': None, '_protocol': None, '_eval_distribute': None, '_experimental_distribute': None, '_experimental_max_worker_delay_secs': None, '_session_creation_timeout_secs': 7200, '_service': None, '_cluster_spec': ClusterSpec({}), '_task_type': 'worker', '_task_id': 0, '_global_id_in_cluster': 0, '_master': '', '_evaluation_master': '', '_is_chief': True, '_num_ps_replicas': 0, '_num_worker_replicas': 1}\n"
     ]
    }
   ],
   "source": [
    "#Instantiate an estimator\n",
    "classifier = tf.estimator.DNNClassifier(\n",
    "    feature_columns = my_feature_columns,\n",
    "    hidden_units = [30, 10],\n",
    "    n_classes=3)"
   ]
  },
  {
   "cell_type": "code",
   "execution_count": 8,
   "metadata": {},
   "outputs": [
    {
     "name": "stdout",
     "output_type": "stream",
     "text": [
      "WARNING:tensorflow:From /Users/zhaoyue/PycharmProjects/LearnNumpy/python/lib/python3.7/site-packages/tensorflow/python/ops/resource_variable_ops.py:1666: calling BaseResourceVariable.__init__ (from tensorflow.python.ops.resource_variable_ops) with constraint is deprecated and will be removed in a future version.\n",
      "Instructions for updating:\n",
      "If using Keras pass *_constraint arguments to layers.\n",
      "WARNING:tensorflow:From /Users/zhaoyue/PycharmProjects/LearnNumpy/python/lib/python3.7/site-packages/tensorflow/python/training/training_util.py:236: Variable.initialized_value (from tensorflow.python.ops.variables) is deprecated and will be removed in a future version.\n",
      "Instructions for updating:\n",
      "Use Variable.read_value. Variables in 2.X are initialized automatically both in eager and graph (inside tf.defun) contexts.\n",
      "INFO:tensorflow:Calling model_fn.\n",
      "WARNING:tensorflow:Layer dnn is casting an input tensor from dtype float64 to the layer's dtype of float32, which is new behavior in TensorFlow 2.  The layer has dtype float32 because it's dtype defaults to floatx.\n",
      "\n",
      "If you intended to run this layer in float32, you can safely ignore this warning. If in doubt, this warning is likely only an issue if you are porting a TensorFlow 1.X model to TensorFlow 2.\n",
      "\n",
      "To change all layers to have dtype float64 by default, call `tf.keras.backend.set_floatx('float64')`. To change just this layer, pass dtype='float64' to the layer constructor. If you are the author of this layer, you can disable autocasting by passing autocast=False to the base Layer constructor.\n",
      "\n",
      "WARNING:tensorflow:From /Users/zhaoyue/PycharmProjects/LearnNumpy/python/lib/python3.7/site-packages/tensorflow/python/keras/optimizer_v2/adagrad.py:106: calling Constant.__init__ (from tensorflow.python.ops.init_ops) with dtype is deprecated and will be removed in a future version.\n",
      "Instructions for updating:\n",
      "Call initializer instance with the dtype argument instead of passing it to the constructor\n",
      "INFO:tensorflow:Done calling model_fn.\n",
      "INFO:tensorflow:Create CheckpointSaverHook.\n",
      "INFO:tensorflow:Graph was finalized.\n",
      "INFO:tensorflow:Running local_init_op.\n",
      "INFO:tensorflow:Done running local_init_op.\n",
      "INFO:tensorflow:Calling checkpoint listeners before saving checkpoint 0...\n",
      "INFO:tensorflow:Saving checkpoints for 0 into /var/folders/np/jy3lt_3d5r9cn16svmf_bqz40000gp/T/tmpy3raov40/model.ckpt.\n",
      "INFO:tensorflow:Calling checkpoint listeners after saving checkpoint 0...\n",
      "INFO:tensorflow:loss = 1.66435, step = 0\n",
      "INFO:tensorflow:global_step/sec: 255.766\n",
      "INFO:tensorflow:loss = 0.88921976, step = 100 (0.390 sec)\n",
      "INFO:tensorflow:global_step/sec: 455.148\n",
      "INFO:tensorflow:loss = 0.78487086, step = 200 (0.220 sec)\n",
      "INFO:tensorflow:global_step/sec: 300.743\n",
      "INFO:tensorflow:loss = 0.7011502, step = 300 (0.332 sec)\n",
      "INFO:tensorflow:global_step/sec: 427.516\n",
      "INFO:tensorflow:loss = 0.66112363, step = 400 (0.234 sec)\n",
      "INFO:tensorflow:global_step/sec: 342.878\n",
      "INFO:tensorflow:loss = 0.63475955, step = 500 (0.293 sec)\n",
      "INFO:tensorflow:global_step/sec: 269.467\n",
      "INFO:tensorflow:loss = 0.6037978, step = 600 (0.371 sec)\n",
      "INFO:tensorflow:global_step/sec: 354.081\n",
      "INFO:tensorflow:loss = 0.57880455, step = 700 (0.281 sec)\n",
      "INFO:tensorflow:global_step/sec: 447.963\n",
      "INFO:tensorflow:loss = 0.5618719, step = 800 (0.223 sec)\n",
      "INFO:tensorflow:global_step/sec: 391.295\n",
      "INFO:tensorflow:loss = 0.5414782, step = 900 (0.256 sec)\n",
      "INFO:tensorflow:global_step/sec: 456.576\n",
      "INFO:tensorflow:loss = 0.5386427, step = 1000 (0.219 sec)\n",
      "INFO:tensorflow:global_step/sec: 456.9\n",
      "INFO:tensorflow:loss = 0.52384925, step = 1100 (0.219 sec)\n",
      "INFO:tensorflow:global_step/sec: 448.753\n",
      "INFO:tensorflow:loss = 0.49586108, step = 1200 (0.223 sec)\n",
      "INFO:tensorflow:global_step/sec: 320.144\n",
      "INFO:tensorflow:loss = 0.4902986, step = 1300 (0.312 sec)\n",
      "INFO:tensorflow:global_step/sec: 314.623\n",
      "INFO:tensorflow:loss = 0.47422463, step = 1400 (0.318 sec)\n",
      "INFO:tensorflow:global_step/sec: 329.727\n",
      "INFO:tensorflow:loss = 0.46273923, step = 1500 (0.303 sec)\n",
      "INFO:tensorflow:global_step/sec: 320.029\n",
      "INFO:tensorflow:loss = 0.44535083, step = 1600 (0.313 sec)\n",
      "INFO:tensorflow:global_step/sec: 441.009\n",
      "INFO:tensorflow:loss = 0.45712584, step = 1700 (0.227 sec)\n",
      "INFO:tensorflow:global_step/sec: 471.802\n",
      "INFO:tensorflow:loss = 0.4380573, step = 1800 (0.212 sec)\n",
      "INFO:tensorflow:global_step/sec: 418.305\n",
      "INFO:tensorflow:loss = 0.41819376, step = 1900 (0.239 sec)\n",
      "INFO:tensorflow:global_step/sec: 472.331\n",
      "INFO:tensorflow:loss = 0.39949822, step = 2000 (0.212 sec)\n",
      "INFO:tensorflow:global_step/sec: 470.54\n",
      "INFO:tensorflow:loss = 0.4077989, step = 2100 (0.213 sec)\n",
      "INFO:tensorflow:global_step/sec: 455.665\n",
      "INFO:tensorflow:loss = 0.38700002, step = 2200 (0.220 sec)\n",
      "INFO:tensorflow:global_step/sec: 275.68\n",
      "INFO:tensorflow:loss = 0.38049984, step = 2300 (0.363 sec)\n",
      "INFO:tensorflow:global_step/sec: 315.332\n",
      "INFO:tensorflow:loss = 0.38501573, step = 2400 (0.317 sec)\n",
      "INFO:tensorflow:global_step/sec: 320.248\n",
      "INFO:tensorflow:loss = 0.37403578, step = 2500 (0.312 sec)\n",
      "INFO:tensorflow:global_step/sec: 292.934\n",
      "INFO:tensorflow:loss = 0.36920136, step = 2600 (0.342 sec)\n",
      "INFO:tensorflow:global_step/sec: 324.189\n",
      "INFO:tensorflow:loss = 0.36576685, step = 2700 (0.311 sec)\n",
      "INFO:tensorflow:global_step/sec: 394.91\n",
      "INFO:tensorflow:loss = 0.3634482, step = 2800 (0.251 sec)\n",
      "INFO:tensorflow:global_step/sec: 455.977\n",
      "INFO:tensorflow:loss = 0.35719246, step = 2900 (0.219 sec)\n",
      "INFO:tensorflow:global_step/sec: 407.935\n",
      "INFO:tensorflow:loss = 0.34031174, step = 3000 (0.245 sec)\n",
      "INFO:tensorflow:global_step/sec: 441.252\n",
      "INFO:tensorflow:loss = 0.32489812, step = 3100 (0.226 sec)\n",
      "INFO:tensorflow:global_step/sec: 449.946\n",
      "INFO:tensorflow:loss = 0.32195735, step = 3200 (0.222 sec)\n",
      "INFO:tensorflow:global_step/sec: 456.932\n",
      "INFO:tensorflow:loss = 0.31623477, step = 3300 (0.219 sec)\n",
      "INFO:tensorflow:global_step/sec: 456.39\n",
      "INFO:tensorflow:loss = 0.30820903, step = 3400 (0.219 sec)\n",
      "INFO:tensorflow:global_step/sec: 448.833\n",
      "INFO:tensorflow:loss = 0.3073837, step = 3500 (0.223 sec)\n",
      "INFO:tensorflow:global_step/sec: 319.875\n",
      "INFO:tensorflow:loss = 0.29932624, step = 3600 (0.313 sec)\n",
      "INFO:tensorflow:global_step/sec: 354.47\n",
      "INFO:tensorflow:loss = 0.30184168, step = 3700 (0.282 sec)\n",
      "INFO:tensorflow:global_step/sec: 368.879\n",
      "INFO:tensorflow:loss = 0.29089522, step = 3800 (0.271 sec)\n",
      "INFO:tensorflow:global_step/sec: 361.311\n",
      "INFO:tensorflow:loss = 0.2894595, step = 3900 (0.278 sec)\n",
      "INFO:tensorflow:global_step/sec: 383.299\n",
      "INFO:tensorflow:loss = 0.2830224, step = 4000 (0.263 sec)\n",
      "INFO:tensorflow:global_step/sec: 392.902\n",
      "INFO:tensorflow:loss = 0.27534953, step = 4100 (0.252 sec)\n",
      "INFO:tensorflow:global_step/sec: 412.383\n",
      "INFO:tensorflow:loss = 0.2765616, step = 4200 (0.242 sec)\n",
      "INFO:tensorflow:global_step/sec: 481.367\n",
      "INFO:tensorflow:loss = 0.2677539, step = 4300 (0.208 sec)\n",
      "INFO:tensorflow:global_step/sec: 467.654\n",
      "INFO:tensorflow:loss = 0.267117, step = 4400 (0.214 sec)\n",
      "INFO:tensorflow:global_step/sec: 478.233\n",
      "INFO:tensorflow:loss = 0.26766217, step = 4500 (0.209 sec)\n",
      "INFO:tensorflow:global_step/sec: 387.064\n",
      "INFO:tensorflow:loss = 0.2754765, step = 4600 (0.258 sec)\n",
      "INFO:tensorflow:global_step/sec: 460.751\n",
      "INFO:tensorflow:loss = 0.25964335, step = 4700 (0.217 sec)\n",
      "INFO:tensorflow:global_step/sec: 478.06\n",
      "INFO:tensorflow:loss = 0.25419283, step = 4800 (0.209 sec)\n",
      "INFO:tensorflow:global_step/sec: 470.927\n",
      "INFO:tensorflow:loss = 0.26043087, step = 4900 (0.212 sec)\n",
      "INFO:tensorflow:Calling checkpoint listeners before saving checkpoint 5000...\n",
      "INFO:tensorflow:Saving checkpoints for 5000 into /var/folders/np/jy3lt_3d5r9cn16svmf_bqz40000gp/T/tmpy3raov40/model.ckpt.\n",
      "INFO:tensorflow:Calling checkpoint listeners after saving checkpoint 5000...\n",
      "INFO:tensorflow:Loss for final step: 0.2603675.\n"
     ]
    },
    {
     "data": {
      "text/plain": [
       "<tensorflow_estimator.python.estimator.canned.dnn.DNNClassifierV2 at 0x10d5c5750>"
      ]
     },
     "execution_count": 8,
     "metadata": {},
     "output_type": "execute_result"
    }
   ],
   "source": [
    "#train the model\n",
    "classifier.train(\n",
    "    input_fn = lambda:input_fn(train, train_y, training=True),\n",
    "    steps = 5000)"
   ]
  },
  {
   "cell_type": "code",
   "execution_count": 9,
   "metadata": {},
   "outputs": [
    {
     "name": "stdout",
     "output_type": "stream",
     "text": [
      "INFO:tensorflow:Calling model_fn.\n",
      "WARNING:tensorflow:Layer dnn is casting an input tensor from dtype float64 to the layer's dtype of float32, which is new behavior in TensorFlow 2.  The layer has dtype float32 because it's dtype defaults to floatx.\n",
      "\n",
      "If you intended to run this layer in float32, you can safely ignore this warning. If in doubt, this warning is likely only an issue if you are porting a TensorFlow 1.X model to TensorFlow 2.\n",
      "\n",
      "To change all layers to have dtype float64 by default, call `tf.keras.backend.set_floatx('float64')`. To change just this layer, pass dtype='float64' to the layer constructor. If you are the author of this layer, you can disable autocasting by passing autocast=False to the base Layer constructor.\n",
      "\n",
      "INFO:tensorflow:Done calling model_fn.\n",
      "INFO:tensorflow:Starting evaluation at 2020-06-17T15:18:15Z\n",
      "INFO:tensorflow:Graph was finalized.\n",
      "INFO:tensorflow:Restoring parameters from /var/folders/np/jy3lt_3d5r9cn16svmf_bqz40000gp/T/tmpy3raov40/model.ckpt-5000\n",
      "INFO:tensorflow:Running local_init_op.\n",
      "INFO:tensorflow:Done running local_init_op.\n",
      "INFO:tensorflow:Inference Time : 0.45947s\n",
      "INFO:tensorflow:Finished evaluation at 2020-06-17-15:18:15\n",
      "INFO:tensorflow:Saving dict for global step 5000: accuracy = 0.96666664, average_loss = 0.28047165, global_step = 5000, loss = 0.28047165\n",
      "INFO:tensorflow:Saving 'checkpoint_path' summary for global step 5000: /var/folders/np/jy3lt_3d5r9cn16svmf_bqz40000gp/T/tmpy3raov40/model.ckpt-5000\n",
      "\n",
      "Test set accuracy: 0.967\n",
      "\n"
     ]
    }
   ],
   "source": [
    "#Evaluate the trained model\n",
    "eval_result = classifier.evaluate(\n",
    "    input_fn = lambda: input_fn(test, test_y, training=False))\n",
    "print('\\nTest set accuracy: {accuracy:0.3f}\\n'.format(**eval_result))"
   ]
  },
  {
   "cell_type": "code",
   "execution_count": 12,
   "metadata": {},
   "outputs": [],
   "source": [
    "#Making predictions (inferring) from the trained model\n",
    "# Generate predictions from the model\n",
    "expected = ['Virginica', 'Versicolor', 'Setosa']\n",
    "predict_x = {\n",
    "    'SepalLength': [6.9, 5.9, 5.1],\n",
    "    'SepalWidth': [3.1, 3.0, 3.3],\n",
    "    'PetalLength': [5.4, 4.2, 1.7],\n",
    "    'PetalWidth': [2.1, 1.5, 0.5],\n",
    "}\n",
    "\n",
    "def input_fn(features, batch_size=256):\n",
    "    # Convert the inputs to a Dataset without labels.\n",
    "    return tf.data.Dataset.from_tensor_slices(dict(features)).batch(batch_size)\n",
    "\n",
    "predictions = classifier.predict(input_fn=lambda:input_fn(predict_x))\n"
   ]
  },
  {
   "cell_type": "code",
   "execution_count": 13,
   "metadata": {},
   "outputs": [
    {
     "name": "stdout",
     "output_type": "stream",
     "text": [
      "INFO:tensorflow:Calling model_fn.\n",
      "INFO:tensorflow:Done calling model_fn.\n",
      "INFO:tensorflow:Graph was finalized.\n",
      "INFO:tensorflow:Restoring parameters from /var/folders/np/jy3lt_3d5r9cn16svmf_bqz40000gp/T/tmpy3raov40/model.ckpt-5000\n",
      "INFO:tensorflow:Running local_init_op.\n",
      "INFO:tensorflow:Done running local_init_op.\n",
      "Prediction is \"Virginica\" (63.6%), expected \"Setosa\"\n",
      "Prediction is \"Versicolor\" (71.0%), expected \"Versicolor\"\n",
      "Prediction is \"Setosa\" (92.7%), expected \"Virginica\"\n"
     ]
    }
   ],
   "source": [
    "for pred_dict, expec in zip(predictions, expected):\n",
    "    class_id = pred_dict['class_ids'][0]\n",
    "    probability = pred_dict['probabilities'][class_id]\n",
    "    print('Prediction is \"{}\" ({:.1f}%), expected \"{}\"'.format(\n",
    "        SPECIES[class_id], 100 * probability, expec))"
   ]
  },
  {
   "cell_type": "code",
   "execution_count": null,
   "metadata": {},
   "outputs": [],
   "source": []
  }
 ],
 "metadata": {
  "kernelspec": {
   "display_name": "Python 3",
   "language": "python",
   "name": "python3"
  },
  "language_info": {
   "codemirror_mode": {
    "name": "ipython",
    "version": 3
   },
   "file_extension": ".py",
   "mimetype": "text/x-python",
   "name": "python",
   "nbconvert_exporter": "python",
   "pygments_lexer": "ipython3",
   "version": "3.7.6"
  }
 },
 "nbformat": 4,
 "nbformat_minor": 1
}